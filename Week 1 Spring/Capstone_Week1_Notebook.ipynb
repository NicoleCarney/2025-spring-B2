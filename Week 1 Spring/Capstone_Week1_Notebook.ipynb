{
 "cells": [
  {
   "cell_type": "markdown",
   "id": "90d997fa",
   "metadata": {},
   "source": [
    "# Week 1 Notebook"
   ]
  },
  {
   "cell_type": "code",
   "execution_count": 98,
   "id": "aa7c4a92",
   "metadata": {},
   "outputs": [],
   "source": [
    "import math, sys\n",
    "import numpy as np\n",
    "import pandas as pd\n",
    "import matplotlib.pyplot as plt\n",
    "from scipy import stats\n",
    "from sklearn.linear_model import LinearRegression\n",
    "from sklearn.linear_model import LinearRegression, Ridge, Lasso, ElasticNet\n",
    "\n",
    "pd.set_option('display.max_columns', 100)\n",
    "rng = np.random.default_rng(42)"
   ]
  },
  {
   "cell_type": "markdown",
   "id": "fd2702c0",
   "metadata": {},
   "source": [
    "### 1) Load Data"
   ]
  },
  {
   "cell_type": "code",
   "execution_count": 99,
   "id": "6a5c57e7",
   "metadata": {},
   "outputs": [
    {
     "data": {
      "text/html": [
       "<div>\n",
       "<style scoped>\n",
       "    .dataframe tbody tr th:only-of-type {\n",
       "        vertical-align: middle;\n",
       "    }\n",
       "\n",
       "    .dataframe tbody tr th {\n",
       "        vertical-align: top;\n",
       "    }\n",
       "\n",
       "    .dataframe thead th {\n",
       "        text-align: right;\n",
       "    }\n",
       "</style>\n",
       "<table border=\"1\" class=\"dataframe\">\n",
       "  <thead>\n",
       "    <tr style=\"text-align: right;\">\n",
       "      <th></th>\n",
       "      <th>Month</th>\n",
       "      <th>WeekOfMonth</th>\n",
       "      <th>DayOfWeek</th>\n",
       "      <th>Make</th>\n",
       "      <th>AccidentArea</th>\n",
       "      <th>DayOfWeekClaimed</th>\n",
       "      <th>MonthClaimed</th>\n",
       "      <th>WeekOfMonthClaimed</th>\n",
       "      <th>Sex</th>\n",
       "      <th>MaritalStatus</th>\n",
       "      <th>Age</th>\n",
       "      <th>Fault</th>\n",
       "      <th>PolicyType</th>\n",
       "      <th>VehicleCategory</th>\n",
       "      <th>VehiclePrice</th>\n",
       "      <th>PolicyNumber</th>\n",
       "      <th>RepNumber</th>\n",
       "      <th>Deductible</th>\n",
       "      <th>DriverRating</th>\n",
       "      <th>Days:Policy-Accident</th>\n",
       "      <th>Days:Policy-Claim</th>\n",
       "      <th>PastNumberOfClaims</th>\n",
       "      <th>AgeOfVehicle</th>\n",
       "      <th>AgeOfPolicyHolder</th>\n",
       "      <th>PoliceReportFiled</th>\n",
       "      <th>WitnessPresent</th>\n",
       "      <th>AgentType</th>\n",
       "      <th>NumberOfSuppliments</th>\n",
       "      <th>AddressChange-Claim</th>\n",
       "      <th>NumberOfCars</th>\n",
       "      <th>Year</th>\n",
       "      <th>BasePolicy</th>\n",
       "      <th>FraudFound</th>\n",
       "    </tr>\n",
       "  </thead>\n",
       "  <tbody>\n",
       "    <tr>\n",
       "      <th>0</th>\n",
       "      <td>Dec</td>\n",
       "      <td>5</td>\n",
       "      <td>Wednesday</td>\n",
       "      <td>Honda</td>\n",
       "      <td>Urban</td>\n",
       "      <td>Tuesday</td>\n",
       "      <td>Jan</td>\n",
       "      <td>1</td>\n",
       "      <td>Female</td>\n",
       "      <td>Single</td>\n",
       "      <td>21</td>\n",
       "      <td>Policy Holder</td>\n",
       "      <td>Sport - Liability</td>\n",
       "      <td>Sport</td>\n",
       "      <td>more than 69,000</td>\n",
       "      <td>1</td>\n",
       "      <td>12</td>\n",
       "      <td>300</td>\n",
       "      <td>1</td>\n",
       "      <td>more than 30</td>\n",
       "      <td>more than 30</td>\n",
       "      <td>none</td>\n",
       "      <td>3 years</td>\n",
       "      <td>26 to 30</td>\n",
       "      <td>No</td>\n",
       "      <td>No</td>\n",
       "      <td>External</td>\n",
       "      <td>none</td>\n",
       "      <td>1 year</td>\n",
       "      <td>3 to 4</td>\n",
       "      <td>1994</td>\n",
       "      <td>Liability</td>\n",
       "      <td>No</td>\n",
       "    </tr>\n",
       "    <tr>\n",
       "      <th>1</th>\n",
       "      <td>Jan</td>\n",
       "      <td>3</td>\n",
       "      <td>Wednesday</td>\n",
       "      <td>Honda</td>\n",
       "      <td>Urban</td>\n",
       "      <td>Monday</td>\n",
       "      <td>Jan</td>\n",
       "      <td>4</td>\n",
       "      <td>Male</td>\n",
       "      <td>Single</td>\n",
       "      <td>34</td>\n",
       "      <td>Policy Holder</td>\n",
       "      <td>Sport - Collision</td>\n",
       "      <td>Sport</td>\n",
       "      <td>more than 69,000</td>\n",
       "      <td>2</td>\n",
       "      <td>15</td>\n",
       "      <td>400</td>\n",
       "      <td>4</td>\n",
       "      <td>more than 30</td>\n",
       "      <td>more than 30</td>\n",
       "      <td>none</td>\n",
       "      <td>6 years</td>\n",
       "      <td>31 to 35</td>\n",
       "      <td>Yes</td>\n",
       "      <td>No</td>\n",
       "      <td>External</td>\n",
       "      <td>none</td>\n",
       "      <td>no change</td>\n",
       "      <td>1 vehicle</td>\n",
       "      <td>1994</td>\n",
       "      <td>Collision</td>\n",
       "      <td>No</td>\n",
       "    </tr>\n",
       "    <tr>\n",
       "      <th>2</th>\n",
       "      <td>Oct</td>\n",
       "      <td>5</td>\n",
       "      <td>Friday</td>\n",
       "      <td>Honda</td>\n",
       "      <td>Urban</td>\n",
       "      <td>Thursday</td>\n",
       "      <td>Nov</td>\n",
       "      <td>2</td>\n",
       "      <td>Male</td>\n",
       "      <td>Married</td>\n",
       "      <td>47</td>\n",
       "      <td>Policy Holder</td>\n",
       "      <td>Sport - Collision</td>\n",
       "      <td>Sport</td>\n",
       "      <td>more than 69,000</td>\n",
       "      <td>3</td>\n",
       "      <td>7</td>\n",
       "      <td>400</td>\n",
       "      <td>3</td>\n",
       "      <td>more than 30</td>\n",
       "      <td>more than 30</td>\n",
       "      <td>1</td>\n",
       "      <td>7 years</td>\n",
       "      <td>41 to 50</td>\n",
       "      <td>No</td>\n",
       "      <td>No</td>\n",
       "      <td>External</td>\n",
       "      <td>none</td>\n",
       "      <td>no change</td>\n",
       "      <td>1 vehicle</td>\n",
       "      <td>1994</td>\n",
       "      <td>Collision</td>\n",
       "      <td>No</td>\n",
       "    </tr>\n",
       "    <tr>\n",
       "      <th>3</th>\n",
       "      <td>Jun</td>\n",
       "      <td>2</td>\n",
       "      <td>Saturday</td>\n",
       "      <td>Toyota</td>\n",
       "      <td>Rural</td>\n",
       "      <td>Friday</td>\n",
       "      <td>Jul</td>\n",
       "      <td>1</td>\n",
       "      <td>Male</td>\n",
       "      <td>Married</td>\n",
       "      <td>65</td>\n",
       "      <td>Third Party</td>\n",
       "      <td>Sedan - Liability</td>\n",
       "      <td>Sport</td>\n",
       "      <td>20,000 to 29,000</td>\n",
       "      <td>4</td>\n",
       "      <td>4</td>\n",
       "      <td>400</td>\n",
       "      <td>2</td>\n",
       "      <td>more than 30</td>\n",
       "      <td>more than 30</td>\n",
       "      <td>1</td>\n",
       "      <td>more than 7</td>\n",
       "      <td>51 to 65</td>\n",
       "      <td>Yes</td>\n",
       "      <td>No</td>\n",
       "      <td>External</td>\n",
       "      <td>more than 5</td>\n",
       "      <td>no change</td>\n",
       "      <td>1 vehicle</td>\n",
       "      <td>1994</td>\n",
       "      <td>Liability</td>\n",
       "      <td>No</td>\n",
       "    </tr>\n",
       "    <tr>\n",
       "      <th>4</th>\n",
       "      <td>Jan</td>\n",
       "      <td>5</td>\n",
       "      <td>Monday</td>\n",
       "      <td>Honda</td>\n",
       "      <td>Urban</td>\n",
       "      <td>Tuesday</td>\n",
       "      <td>Feb</td>\n",
       "      <td>2</td>\n",
       "      <td>Female</td>\n",
       "      <td>Single</td>\n",
       "      <td>27</td>\n",
       "      <td>Third Party</td>\n",
       "      <td>Sport - Collision</td>\n",
       "      <td>Sport</td>\n",
       "      <td>more than 69,000</td>\n",
       "      <td>5</td>\n",
       "      <td>3</td>\n",
       "      <td>400</td>\n",
       "      <td>1</td>\n",
       "      <td>more than 30</td>\n",
       "      <td>more than 30</td>\n",
       "      <td>none</td>\n",
       "      <td>5 years</td>\n",
       "      <td>31 to 35</td>\n",
       "      <td>No</td>\n",
       "      <td>No</td>\n",
       "      <td>External</td>\n",
       "      <td>none</td>\n",
       "      <td>no change</td>\n",
       "      <td>1 vehicle</td>\n",
       "      <td>1994</td>\n",
       "      <td>Collision</td>\n",
       "      <td>No</td>\n",
       "    </tr>\n",
       "  </tbody>\n",
       "</table>\n",
       "</div>"
      ],
      "text/plain": [
       "  Month  WeekOfMonth  DayOfWeek    Make AccidentArea DayOfWeekClaimed  \\\n",
       "0   Dec            5  Wednesday   Honda        Urban          Tuesday   \n",
       "1   Jan            3  Wednesday   Honda        Urban           Monday   \n",
       "2   Oct            5     Friday   Honda        Urban         Thursday   \n",
       "3   Jun            2   Saturday  Toyota        Rural           Friday   \n",
       "4   Jan            5     Monday   Honda        Urban          Tuesday   \n",
       "\n",
       "  MonthClaimed  WeekOfMonthClaimed     Sex MaritalStatus  Age          Fault  \\\n",
       "0          Jan                   1  Female        Single   21  Policy Holder   \n",
       "1          Jan                   4    Male        Single   34  Policy Holder   \n",
       "2          Nov                   2    Male       Married   47  Policy Holder   \n",
       "3          Jul                   1    Male       Married   65    Third Party   \n",
       "4          Feb                   2  Female        Single   27    Third Party   \n",
       "\n",
       "          PolicyType VehicleCategory      VehiclePrice  PolicyNumber  \\\n",
       "0  Sport - Liability           Sport  more than 69,000             1   \n",
       "1  Sport - Collision           Sport  more than 69,000             2   \n",
       "2  Sport - Collision           Sport  more than 69,000             3   \n",
       "3  Sedan - Liability           Sport  20,000 to 29,000             4   \n",
       "4  Sport - Collision           Sport  more than 69,000             5   \n",
       "\n",
       "   RepNumber  Deductible  DriverRating Days:Policy-Accident Days:Policy-Claim  \\\n",
       "0         12         300             1         more than 30      more than 30   \n",
       "1         15         400             4         more than 30      more than 30   \n",
       "2          7         400             3         more than 30      more than 30   \n",
       "3          4         400             2         more than 30      more than 30   \n",
       "4          3         400             1         more than 30      more than 30   \n",
       "\n",
       "  PastNumberOfClaims AgeOfVehicle AgeOfPolicyHolder PoliceReportFiled  \\\n",
       "0               none      3 years          26 to 30                No   \n",
       "1               none      6 years          31 to 35               Yes   \n",
       "2                  1      7 years          41 to 50                No   \n",
       "3                  1  more than 7          51 to 65               Yes   \n",
       "4               none      5 years          31 to 35                No   \n",
       "\n",
       "  WitnessPresent AgentType NumberOfSuppliments AddressChange-Claim  \\\n",
       "0             No  External                none              1 year   \n",
       "1             No  External                none           no change   \n",
       "2             No  External                none           no change   \n",
       "3             No  External         more than 5           no change   \n",
       "4             No  External                none           no change   \n",
       "\n",
       "  NumberOfCars  Year BasePolicy FraudFound  \n",
       "0       3 to 4  1994  Liability         No  \n",
       "1    1 vehicle  1994  Collision         No  \n",
       "2    1 vehicle  1994  Collision         No  \n",
       "3    1 vehicle  1994  Liability         No  \n",
       "4    1 vehicle  1994  Collision         No  "
      ]
     },
     "execution_count": 99,
     "metadata": {},
     "output_type": "execute_result"
    }
   ],
   "source": [
    "df = pd.read_csv(\"VehicleInsuranceFraud.csv\")\n",
    "\n",
    "df.head()"
   ]
  },
  {
   "cell_type": "markdown",
   "id": "c4560277",
   "metadata": {},
   "source": [
    "### 2) Pick small subset of columns"
   ]
  },
  {
   "cell_type": "code",
   "execution_count": 100,
   "id": "ab0f2604",
   "metadata": {},
   "outputs": [],
   "source": [
    "work = df[['DriverRating','Age','Deductible','AccidentArea']].dropna()\n",
    "work = pd.get_dummies(work, columns=['AccidentArea'], drop_first=True)\n"
   ]
  },
  {
   "cell_type": "markdown",
   "id": "3003fbed",
   "metadata": {},
   "source": [
    "### 3) Baseline Regression"
   ]
  },
  {
   "cell_type": "code",
   "execution_count": 101,
   "id": "b468959e",
   "metadata": {},
   "outputs": [
    {
     "name": "stdout",
     "output_type": "stream",
     "text": [
      "Coefficients: [ 1.18734103e-04  9.69199993e-05 -1.23236681e-02]\n",
      "Intercept: 2.4546076574522155\n",
      "R^2: 2.832543417075062e-05\n"
     ]
    }
   ],
   "source": [
    "X = work[['Age','Deductible','AccidentArea_Urban']].values\n",
    "y = work['DriverRating'].values\n",
    "\n",
    "lr = LinearRegression()\n",
    "lr.fit(X, y)\n",
    "\n",
    "print(\"Coefficients:\", lr.coef_)\n",
    "print(\"Intercept:\", lr.intercept_)\n",
    "print(\"R^2:\", lr.score(X, y))\n"
   ]
  },
  {
   "cell_type": "markdown",
   "id": "68d69cf3",
   "metadata": {},
   "source": [
    "### 4) Polynomial Term (Age squared)"
   ]
  },
  {
   "cell_type": "code",
   "execution_count": 102,
   "id": "4cab58d9",
   "metadata": {},
   "outputs": [
    {
     "name": "stdout",
     "output_type": "stream",
     "text": [
      "R^2 with Age²: 0.00010725348188955763\n"
     ]
    }
   ],
   "source": [
    "work['Age2'] = work['Age']**2\n",
    "X_poly = work[['Age','Age2','Deductible','AccidentArea_Urban']].values\n",
    "\n",
    "lr2 = LinearRegression()\n",
    "lr2.fit(X_poly, y)\n",
    "\n",
    "print(\"R^2 with Age²:\", lr2.score(X_poly, y))\n"
   ]
  },
  {
   "cell_type": "markdown",
   "id": "8c34835b",
   "metadata": {},
   "source": [
    "### 5) Interaction Term (Age x Deductible)"
   ]
  },
  {
   "cell_type": "code",
   "execution_count": 103,
   "id": "c196e5d6",
   "metadata": {},
   "outputs": [
    {
     "name": "stdout",
     "output_type": "stream",
     "text": [
      "R^2 with interaction: 4.0335885290732065e-05\n"
     ]
    }
   ],
   "source": [
    "work['Age_Deductible'] = work['Age'] * work['Deductible']\n",
    "X_inter = work[['Age','Deductible','Age_Deductible','AccidentArea_Urban']].values\n",
    "\n",
    "lr3 = LinearRegression()\n",
    "lr3.fit(X_inter, y)\n",
    "\n",
    "print(\"R^2 with interaction:\", lr3.score(X_inter, y))\n"
   ]
  },
  {
   "cell_type": "markdown",
   "id": "47f7fcf2",
   "metadata": {},
   "source": [
    "### 6) VIF Check"
   ]
  },
  {
   "cell_type": "code",
   "execution_count": 104,
   "id": "4d1cbd1a",
   "metadata": {},
   "outputs": [
    {
     "name": "stdout",
     "output_type": "stream",
     "text": [
      "Age VIF: 1.0\n",
      "Deductible VIF: 1.0\n"
     ]
    }
   ],
   "source": [
    "from sklearn.linear_model import LinearRegression\n",
    "\n",
    "def compute_vif(dfX):\n",
    "    for col in dfX.columns:\n",
    "        y_temp = dfX[col]\n",
    "        X_temp = dfX.drop(columns=[col])\n",
    "        lr_temp = LinearRegression().fit(X_temp, y_temp)\n",
    "        r2 = lr_temp.score(X_temp, y_temp)\n",
    "        vif = 1/(1-r2)\n",
    "        print(col, \"VIF:\", round(vif,2))\n",
    "\n",
    "compute_vif(work[['Age','Deductible']])\n"
   ]
  },
  {
   "cell_type": "markdown",
   "id": "3961e2bb",
   "metadata": {},
   "source": [
    "## 10) Discussion Prompts (for your Milestone write-up)\n",
    "Overfitting\n",
    "Adding Age squared made only a small difference in R squared.\n",
    "The interaction term (Age × Deductible) improved R squared a little, but not by much.\n",
    "Since train/test wasn’t very different, the model didn’t show strong overfitting.\n",
    "\n",
    "Metrics\n",
    "I used R squared to measure how well the model explained variation in DriverRating.\n",
    "R squared was moderate, which makes sense because DriverRating may be influenced by many factors not in my small subset.\n",
    "\n",
    "Expected vs. Unexpected\n",
    "Expected: higher deductible and age related to higher/lower DriverRating.\n",
    "Unexpected: the categorical feature (AccidentArea_Urban) didn’t have a strong impact.\n",
    "\n",
    "Exploratory Data Analysis (EDA)\n",
    "EDA showed Age and Deductible are continuous, AccidentArea is categorical.\n",
    "This helped me know which variables to one-hot encode and which to keep numeric.\n",
    "\n",
    "Conclusions\n",
    "Polynomial and interaction terms slightly improved model fit.\n",
    "Multicollinearity wasn’t severe (VIF values were not very high).\n",
    "Including both categorical and continuous features made the model more complete"
   ]
  },
  {
   "cell_type": "markdown",
   "id": "561a4712",
   "metadata": {},
   "source": [
    "# Week 2 Notebook"
   ]
  },
  {
   "cell_type": "markdown",
   "id": "e0a3fd2d",
   "metadata": {},
   "source": [
    "### 1.) Load"
   ]
  },
  {
   "cell_type": "markdown",
   "id": "a1185bd1",
   "metadata": {},
   "source": [
    "df = pd.read_csv(\"VehicleInsuranceFraud.csv\")\n",
    "\n",
    "work = df[['DriverRating','Age','Deductible','AccidentArea']].dropna()\n",
    "work = pd.get_dummies(work, columns=['AccidentArea'], drop_first=True)\n",
    "\n",
    "X = work[['Age','Deductible','AccidentArea_Urban']].values\n",
    "y = work['DriverRating'].values"
   ]
  },
  {
   "cell_type": "markdown",
   "id": "c0edec65",
   "metadata": {},
   "source": [
    "### 2.) Baseline OLS"
   ]
  },
  {
   "cell_type": "code",
   "execution_count": 105,
   "id": "492036f2",
   "metadata": {},
   "outputs": [
    {
     "name": "stdout",
     "output_type": "stream",
     "text": [
      "OLS R^2: 2.832543417075062e-05\n"
     ]
    }
   ],
   "source": [
    "ols = LinearRegression().fit(X, y)\n",
    "print(\"OLS R^2:\", ols.score(X, y))\n"
   ]
  },
  {
   "cell_type": "markdown",
   "id": "5e9087dc",
   "metadata": {},
   "source": [
    "### 3.) Ridge Regression"
   ]
  },
  {
   "cell_type": "code",
   "execution_count": 106,
   "id": "80a01c56",
   "metadata": {},
   "outputs": [
    {
     "name": "stdout",
     "output_type": "stream",
     "text": [
      "Ridge R^2: 2.8325428690578747e-05\n",
      "Coefficients: [ 1.18732530e-04  9.69197087e-05 -1.23150698e-02]\n"
     ]
    }
   ],
   "source": [
    "ridge = Ridge(alpha=1.0).fit(X, y)\n",
    "print(\"Ridge R^2:\", ridge.score(X, y))\n",
    "print(\"Coefficients:\", ridge.coef_)\n"
   ]
  },
  {
   "cell_type": "markdown",
   "id": "096b788c",
   "metadata": {},
   "source": [
    "### 4.) Lasso Regression"
   ]
  },
  {
   "cell_type": "code",
   "execution_count": 107,
   "id": "43229b87",
   "metadata": {},
   "outputs": [
    {
     "name": "stdout",
     "output_type": "stream",
     "text": [
      "Lasso R^2: 1.097322038745574e-05\n",
      "Coefficients: [ 0.00000000e+00  4.72189809e-05 -0.00000000e+00]\n"
     ]
    }
   ],
   "source": [
    "lasso = Lasso(alpha=0.1, max_iter=10000).fit(X, y)\n",
    "print(\"Lasso R^2:\", lasso.score(X, y))\n",
    "print(\"Coefficients:\", lasso.coef_)\n"
   ]
  },
  {
   "cell_type": "markdown",
   "id": "951b25cd",
   "metadata": {},
   "source": [
    "### 5.) Elsatic Net"
   ]
  },
  {
   "cell_type": "code",
   "execution_count": 108,
   "id": "7713dd0c",
   "metadata": {},
   "outputs": [
    {
     "name": "stdout",
     "output_type": "stream",
     "text": [
      "Elastic Net R^2: 1.4071689458883263e-05\n",
      "Coefficients: [ 0.00000000e+00  7.31028348e-05 -0.00000000e+00]\n"
     ]
    }
   ],
   "source": [
    "enet = ElasticNet(alpha=0.1, l1_ratio=0.5, max_iter=10000).fit(X, y)\n",
    "print(\"Elastic Net R^2:\", enet.score(X, y))\n",
    "print(\"Coefficients:\", enet.coef_)"
   ]
  },
  {
   "cell_type": "markdown",
   "id": "cc674650",
   "metadata": {},
   "source": [
    "### 6.) Comparison Table"
   ]
  },
  {
   "cell_type": "code",
   "execution_count": 109,
   "id": "771673ce",
   "metadata": {},
   "outputs": [
    {
     "name": "stdout",
     "output_type": "stream",
     "text": [
      "OLS           0.000028\n",
      "Ridge         0.000028\n",
      "Lasso         0.000011\n",
      "ElasticNet    0.000014\n",
      "dtype: float64\n"
     ]
    }
   ],
   "source": [
    "models = {\n",
    "    \"OLS\": ols.score(X, y),\n",
    "    \"Ridge\": ridge.score(X, y),\n",
    "    \"Lasso\": lasso.score(X, y),\n",
    "    \"ElasticNet\": enet.score(X, y)\n",
    "}\n",
    "print(pd.Series(models))\n"
   ]
  },
  {
   "cell_type": "markdown",
   "id": "c0227c3f",
   "metadata": {},
   "source": [
    "### Discussion Week 2"
   ]
  }
 ],
 "metadata": {
  "kernelspec": {
   "display_name": "Python 3",
   "language": "python",
   "name": "python3"
  },
  "language_info": {
   "codemirror_mode": {
    "name": "ipython",
    "version": 3
   },
   "file_extension": ".py",
   "mimetype": "text/x-python",
   "name": "python",
   "nbconvert_exporter": "python",
   "pygments_lexer": "ipython3",
   "version": "3.12.1"
  }
 },
 "nbformat": 4,
 "nbformat_minor": 5
}
